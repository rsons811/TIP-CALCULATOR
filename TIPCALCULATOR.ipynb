{
 "cells": [
  {
   "cell_type": "markdown",
   "id": "2dba5ecc-025a-47c2-9a9c-66e5ba3ff38b",
   "metadata": {},
   "source": [
    "# Tip calculator"
   ]
  },
  {
   "cell_type": "code",
   "execution_count": 88,
   "id": "00812721-7cc5-4dd4-8322-97e06ed8b9d3",
   "metadata": {},
   "outputs": [
    {
     "name": "stdout",
     "output_type": "stream",
     "text": [
      "Welcome to tip calulator\n"
     ]
    },
    {
     "name": "stdin",
     "output_type": "stream",
     "text": [
      "what is your food bill? $ 1600\n",
      "how much tip youwant give? $ 10 20 30\n",
      " 10\n",
      "how many person are there? 6\n"
     ]
    },
    {
     "name": "stdout",
     "output_type": "stream",
     "text": [
      "each person should have to pay: $268.33\n"
     ]
    }
   ],
   "source": [
    "print(\"Welcome to tip calulator\")\n",
    "bill= float(input(\"what is your food bill? $\"))\n",
    "tip=int(input(\"how much tip youwant give? $ 10 20 30\\n\"))\n",
    "total_bill= bill+tip\n",
    "number_of_person=int(input(\"how many person are there?\"))\n",
    "bill_per_person=total_bill/number_of_person\n",
    "final_amount= round(bill_per_person,2)\n",
    "print(f\"each person should have to pay: ${final_amount}\")"
   ]
  },
  {
   "cell_type": "code",
   "execution_count": null,
   "id": "df3fbc5c-1542-4322-bbfc-e9e2c964fda1",
   "metadata": {},
   "outputs": [],
   "source": []
  }
 ],
 "metadata": {
  "kernelspec": {
   "display_name": "Python 3 (ipykernel)",
   "language": "python",
   "name": "python3"
  },
  "language_info": {
   "codemirror_mode": {
    "name": "ipython",
    "version": 3
   },
   "file_extension": ".py",
   "mimetype": "text/x-python",
   "name": "python",
   "nbconvert_exporter": "python",
   "pygments_lexer": "ipython3",
   "version": "3.11.7"
  }
 },
 "nbformat": 4,
 "nbformat_minor": 5
}
